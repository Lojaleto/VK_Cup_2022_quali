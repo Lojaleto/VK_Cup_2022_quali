{
 "cells": [
  {
   "cell_type": "markdown",
   "metadata": {
    "id": "JasJclP8E3qG"
   },
   "source": [
    "###  installing Packages"
   ]
  },
  {
   "cell_type": "code",
   "execution_count": 1,
   "metadata": {},
   "outputs": [],
   "source": [
    "#!pip install transformers\n",
    "#!pip install spacy\n",
    "#!python -m spacy download ru_core_news_sm"
   ]
  },
  {
   "cell_type": "code",
   "execution_count": 2,
   "metadata": {},
   "outputs": [],
   "source": [
    "!wget https://raw.githubusercontent.com/Lojaleto/loader/main/loader.py\n",
    "!wget https://github.com/Lojaleto/VK_Cup_2022_quali/raw/main/bert.py"
   ]
  },
  {
   "cell_type": "code",
   "execution_count": 3,
   "metadata": {
    "executionInfo": {
     "elapsed": 2456,
     "status": "ok",
     "timestamp": 1671384907120,
     "user": {
      "displayName": "Вячеслав Лой",
      "userId": "13558431165849052389"
     },
     "user_tz": -240
    },
    "id": "-tsq1G0m7sdr",
    "scrolled": true
   },
   "outputs": [
    {
     "name": "stderr",
     "output_type": "stream",
     "text": []
    }
   ],
   "source": [
    "import pandas as pd\n",
    "import numpy as np\n",
    "import torch\n",
    "import spacy\n",
    "import re\n",
    "import matplotlib.pyplot as plt\n",
    "import seaborn as sns\n",
    "\n",
    "from spacy.lang.ru.examples import sentences \n",
    "from loader import download\n",
    "from bert import BertClassifier\n",
    "from sklearn.model_selection import train_test_split\n",
    "from sklearn.metrics import precision_recall_fscore_support"
   ]
  },
  {
   "cell_type": "markdown",
   "metadata": {},
   "source": [
    "### get data"
   ]
  },
  {
   "cell_type": "code",
   "execution_count": 4,
   "metadata": {
    "colab": {
     "base_uri": "https://localhost:8080/"
    },
    "executionInfo": {
     "elapsed": 21081,
     "status": "ok",
     "timestamp": 1671384875628,
     "user": {
      "displayName": "Вячеслав Лой",
      "userId": "13558431165849052389"
     },
     "user_tz": -240
    },
    "id": "pbiccyZg6-kE",
    "outputId": "87449a7b-9713-439f-da19-460bc6ead4e8",
    "scrolled": true
   },
   "outputs": [
    {
     "name": "stdout",
     "output_type": "stream",
     "text": [
      "[*] lemma.csv - done                                                                                                                                                                                                                                                                                                                                                                                                                                                                                                                                                                                                                                                                                                                                                                                                                                                                                                                                                                                                                                                                       \n",
      "[*] lemma_test.csv - done                                                                                                                                                                                                                                                                                                                                                                                                                                                                                                                                                                                                                                                                                                                                                                                                                                                                                                                                                                                                                                                                  \n",
      "[*] train.csv - done                                                                                                                                                                                                                                                                                                                                                                                                                                                                                                                                                                                                                                                                                                                                                                                                                                                                                                                                                                                                                                                                \n",
      "[*] test.csv - done                                                                                                                                                                                                                                                                                                                                                                                                                                                                                                                                                                                                                                                                                                                                                                                                                                                                                                                                                                                                                                                                 \n",
      "[*] sample_submission.csv - done                                                                                                                                                                                                                                                                                                                                                                                                                                                                                                                                                                                                                                                                                                                                                                                                                                                                                                                                                                                                                                                     \n",
      "[*] bert.pt - already                                                                                                                                                                                                                                                                                                                                                                                                                                                                                                                                                                                                                                                                                                                                                                                                                                                                                                                                                                                                                       \n"
     ]
    }
   ],
   "source": [
    "download('https://github.com/Lojaleto/VK_Cup_2022_quali/raw/main/subsets/VK_Cup_2022_quali/lemma.csv',\n",
    "         './subsets/VK_Cup_2022_quali/lemma.csv')\n",
    "download('https://github.com/Lojaleto/VK_Cup_2022_quali/raw/main/subsets/VK_Cup_2022_quali/lemma_test.csv',\n",
    "         './subsets/VK_Cup_2022_quali/lemma_test.csv')\n",
    "download('https://github.com/Lojaleto/VK_Cup_2022_quali/raw/main/datasets/VK_Cup_2022_quali/train.csv',\n",
    "         './datasets/VK_Cup_2022_quali/train.csv')\n",
    "download('https://github.com/Lojaleto/VK_Cup_2022_quali/raw/main/datasets/VK_Cup_2022_quali/test.csv',\n",
    "         './datasets/VK_Cup_2022_quali/test.csv')\n",
    "download('https://github.com/Lojaleto/VK_Cup_2022_quali/raw/main/datasets/VK_Cup_2022_quali/sample_submission.csv',\n",
    "         './datasets/VK_Cup_2022_quali/sample_submission.csv')\n",
    "download('https://github.com/Lojaleto/VK_Cup_2022_quali/raw/main/subsets/VK_Cup_2022_quali/bert.pt',\n",
    "         './subsets/VK_Cup_2022_quali/bert.pt')\n"
   ]
  },
  {
   "cell_type": "code",
   "execution_count": 5,
   "metadata": {
    "executionInfo": {
     "elapsed": 1921,
     "status": "ok",
     "timestamp": 1671384891796,
     "user": {
      "displayName": "Вячеслав Лой",
      "userId": "13558431165849052389"
     },
     "user_tz": -240
    },
    "id": "GDgGKZmU7t3N"
   },
   "outputs": [],
   "source": [
    "df = {}\n",
    "\n",
    "#df[\"train\"] = pd.read_csv('./datasets/VK_Cup_2022_quali/train.csv')\n",
    "#df[\"test\"] = pd.read_csv('./datasets/VK_Cup_2022_quali/test.csv')\n",
    "df[\"sample_submission\"]  = pd.read_csv('./datasets/VK_Cup_2022_quali/sample_submission.csv')\n"
   ]
  },
  {
   "cell_type": "markdown",
   "metadata": {},
   "source": [
    "### lemmatization"
   ]
  },
  {
   "cell_type": "code",
   "execution_count": 6,
   "metadata": {},
   "outputs": [],
   "source": [
    "'''\n",
    "nlp = spacy.load('ru_core_web_sm', disable=['parser', 'ner'])\n",
    "def spacy_fn(sentence):\n",
    "    doc = nlp(re.sub(r'[^0-9a-zA-Zа-яА-ЯёЁ]', ' ', sentence).lower())\n",
    "    return \" \".join([token.lemma_ for token in doc])\n",
    "    \n",
    "df[\"train\"]['text'] = df[\"train\"]['text'].apply(lambda x: spacy_fn(x))\n",
    "df[\"train\"].to_csv('./subsets/VK_Cup_2022_quali/lemma.csv', index=False)\n",
    "\n",
    "df[\"test\"]['text'] = df[\"test\"]['text'].apply(lambda x: spacy_fn(x))\n",
    "df[\"test\"].to_csv('./subsets/VK_Cup_2022_quali/lemma_test.csv', index=False)\n",
    "'''\n",
    "pass\n",
    "\n",
    "#загрузим уже лемматизированные данные\n",
    "df[\"train\"] = pd.read_csv('./subsets/VK_Cup_2022_quali/lemma.csv')\n",
    "df[\"test\"] = pd.read_csv('./subsets/VK_Cup_2022_quali/lemma_test.csv')\n"
   ]
  },
  {
   "cell_type": "markdown",
   "metadata": {
    "id": "xJtu_4PKFAxU"
   },
   "source": [
    "### initialize BERT classifier"
   ]
  },
  {
   "cell_type": "code",
   "execution_count": 7,
   "metadata": {
    "colab": {
     "base_uri": "https://localhost:8080/"
    },
    "executionInfo": {
     "elapsed": 3330,
     "status": "ok",
     "timestamp": 1671384941532,
     "user": {
      "displayName": "Вячеслав Лой",
      "userId": "13558431165849052389"
     },
     "user_tz": -240
    },
    "id": "kFHabt8p_IY7",
    "outputId": "fd7cb434-bd73-4b28-ef51-c642bed8f607"
   },
   "outputs": [
    {
     "name": "stderr",
     "output_type": "stream",
     "text": []
    }
   ],
   "source": [
    "classifier = BertClassifier(\n",
    "        model_path='cointegrated/rubert-tiny',\n",
    "        tokenizer_path='cointegrated/rubert-tiny',\n",
    "        n_classes=13,\n",
    "        epochs=33,\n",
    "        model_save_path='./subsets/VK_Cup_2022_quali/bert.pt'\n",
    ")\n"
   ]
  },
  {
   "cell_type": "code",
   "execution_count": 8,
   "metadata": {
    "executionInfo": {
     "elapsed": 443,
     "status": "ok",
     "timestamp": 1671397078571,
     "user": {
      "displayName": "Вячеслав Лой",
      "userId": "13558431165849052389"
     },
     "user_tz": -240
    },
    "id": "b65XFoHV-tqH"
   },
   "outputs": [],
   "source": [
    "keys_target = {'athletics':   0,\n",
    "               'autosport':   1,\n",
    "               'basketball':  2,\n",
    "               'boardgames':  3,\n",
    "               'esport':      4,\n",
    "               'extreme':     5,\n",
    "               'football':    6,\n",
    "               'hockey':      7,\n",
    "               'martial_arts':8,\n",
    "               'motosport':   9,\n",
    "               'tennis':      10,\n",
    "               'volleyball':  11,\n",
    "               'winter_sport':12}"
   ]
  },
  {
   "cell_type": "code",
   "execution_count": 9,
   "metadata": {
    "colab": {
     "base_uri": "https://localhost:8080/",
     "height": 112
    },
    "executionInfo": {
     "elapsed": 6,
     "status": "ok",
     "timestamp": 1671384947594,
     "user": {
      "displayName": "Вячеслав Лой",
      "userId": "13558431165849052389"
     },
     "user_tz": -240
    },
    "id": "fOBlWxe_-tqI",
    "outputId": "59b69bbd-115a-4dd8-a1d3-812607bb2c32"
   },
   "outputs": [
    {
     "data": {
      "text/html": [
       "<div>\n",
       "<style scoped>\n",
       "    .dataframe tbody tr th:only-of-type {\n",
       "        vertical-align: middle;\n",
       "    }\n",
       "\n",
       "    .dataframe tbody tr th {\n",
       "        vertical-align: top;\n",
       "    }\n",
       "\n",
       "    .dataframe thead th {\n",
       "        text-align: right;\n",
       "    }\n",
       "</style>\n",
       "<table border=\"1\" class=\"dataframe\">\n",
       "  <thead>\n",
       "    <tr style=\"text-align: right;\">\n",
       "      <th></th>\n",
       "      <th>train</th>\n",
       "      <th>valid</th>\n",
       "      <th>test</th>\n",
       "    </tr>\n",
       "  </thead>\n",
       "  <tbody>\n",
       "    <tr>\n",
       "      <th>X</th>\n",
       "      <td>(27118, 2)</td>\n",
       "      <td>(30992, 2)</td>\n",
       "      <td>(7748, 2)</td>\n",
       "    </tr>\n",
       "    <tr>\n",
       "      <th>y</th>\n",
       "      <td>(27118, 2)</td>\n",
       "      <td>(30992, 2)</td>\n",
       "      <td>(7748, 2)</td>\n",
       "    </tr>\n",
       "  </tbody>\n",
       "</table>\n",
       "</div>"
      ],
      "text/plain": [
       "        train       valid       test\n",
       "X  (27118, 2)  (30992, 2)  (7748, 2)\n",
       "y  (27118, 2)  (30992, 2)  (7748, 2)"
      ]
     },
     "metadata": {},
     "output_type": "display_data"
    }
   ],
   "source": [
    "features = df[\"train\"].drop('category', axis=1)\n",
    "target = df[\"train\"].drop('text', axis=1)\n",
    "\n",
    "target['category'] = target['category'].apply(lambda x: keys_target[x])\n",
    "\n",
    "X = {}\n",
    "y = {}\n",
    "\n",
    "X[\"train\"], X[\"valid\"], y[\"train\"], y[\"valid\"] = train_test_split(features, target, test_size=0.3,\n",
    "                                                                stratify=target, random_state=12345)\n",
    "X[\"valid\"], X[\"test\"], y[\"valid\"], y[\"test\"] = train_test_split(features, target, test_size=0.2,\n",
    "                                                                stratify=target, random_state=12345)\n",
    "\n",
    "display(pd.DataFrame([[X[\"train\"].shape, X[\"valid\"].shape, X[\"test\"].shape],\n",
    "                      [y[\"train\"].shape, y[\"valid\"].shape, y[\"test\"].shape]],\n",
    "                     columns=['train', 'valid', 'test'],\n",
    "                     index=['X', 'y']))\n"
   ]
  },
  {
   "cell_type": "markdown",
   "metadata": {
    "id": "5dc-F_9vFGb1"
   },
   "source": [
    "### prepare data and helpers for train and evlauation"
   ]
  },
  {
   "cell_type": "code",
   "execution_count": 10,
   "metadata": {
    "colab": {
     "base_uri": "https://localhost:8080/"
    },
    "executionInfo": {
     "elapsed": 12,
     "status": "ok",
     "timestamp": 1671384951066,
     "user": {
      "displayName": "Вячеслав Лой",
      "userId": "13558431165849052389"
     },
     "user_tz": -240
    },
    "id": "KoB7lDv_8AWe",
    "outputId": "f399a1c1-1724-499c-fb88-5bc21304503f"
   },
   "outputs": [
    {
     "name": "stderr",
     "output_type": "stream",
     "text": []
    }
   ],
   "source": [
    "classifier.preparation(\n",
    "        X_train=list(X[\"train\"]['text']),\n",
    "        y_train=list(y[\"train\"]['category']),\n",
    "        X_valid=list(X[\"valid\"]['text']),\n",
    "        y_valid=list(y[\"valid\"]['category'])\n",
    "    )\n"
   ]
  },
  {
   "cell_type": "markdown",
   "metadata": {
    "id": "eUVTfpC5FPsr"
   },
   "source": [
    "### train loop"
   ]
  },
  {
   "cell_type": "code",
   "execution_count": 11,
   "metadata": {
    "colab": {
     "base_uri": "https://localhost:8080/"
    },
    "executionInfo": {
     "elapsed": 11323584,
     "status": "ok",
     "timestamp": 1671396278131,
     "user": {
      "displayName": "Вячеслав Лой",
      "userId": "13558431165849052389"
     },
     "user_tz": -240
    },
    "id": "Pj_RQTCB9dNJ",
    "outputId": "568d278e-12ea-4037-a704-41c768f4b349"
   },
   "outputs": [],
   "source": [
    "#classifier.train()"
   ]
  },
  {
   "cell_type": "markdown",
   "metadata": {
    "id": "yPqZPcTmFTSd"
   },
   "source": [
    "### check test data"
   ]
  },
  {
   "cell_type": "code",
   "execution_count": 12,
   "metadata": {
    "colab": {
     "base_uri": "https://localhost:8080/",
     "height": 35
    },
    "executionInfo": {
     "elapsed": 444,
     "status": "ok",
     "timestamp": 1671396436456,
     "user": {
      "displayName": "Вячеслав Лой",
      "userId": "13558431165849052389"
     },
     "user_tz": -240
    },
    "id": "v-2V66d5-Qk8",
    "outputId": "6bc22e81-2b2e-4041-ccdc-17b3fa285136"
   },
   "outputs": [],
   "source": [
    "#from shutil import copyfile\n",
    "#copyfile('./subsets/VK_Cup_2022_quali/bert.pt', './drive/MyDrive/bert.pt')"
   ]
  },
  {
   "cell_type": "code",
   "execution_count": 13,
   "metadata": {
    "scrolled": true
   },
   "outputs": [
    {
     "name": "stderr",
     "output_type": "stream",
     "text": []
    }
   ],
   "source": [
    "#загрузим уже дообученную модель\n",
    "classifier = BertClassifier(\n",
    "        model_path='cointegrated/rubert-tiny',\n",
    "        tokenizer_path='cointegrated/rubert-tiny',\n",
    "        model_save_path='./subsets/VK_Cup_2022_quali/bert.pt',\n",
    "        model_load=True\n",
    ")\n"
   ]
  },
  {
   "cell_type": "markdown",
   "metadata": {},
   "source": [
    "### prediction"
   ]
  },
  {
   "cell_type": "markdown",
   "metadata": {},
   "source": [
    "рассмотрим как должен выглядеть результат, однако нужно ещё провести отсечение внекатегориальных предсказаний, а для этого нам нужны правильные ответы.<br />\n",
    "мы не можем взять метрики от теста, потому что не знаем правильного ответа.<br />\n",
    "в тестовом датасете нет категорий.<br />\n",
    "это должно было происходить на базе серверов VKcup, а мы только отправляли предсказания и получали результат.<br />\n",
    "выполним хотя бы для тестовой выборки, которую мы подготовили из тренеровочного датасета, чтобы понять механизм."
   ]
  },
  {
   "cell_type": "code",
   "execution_count": 14,
   "metadata": {},
   "outputs": [],
   "source": [
    "df[\"train_test\"] = X[\"test\"]\n",
    "df[\"train_test\"]['category'] = y[\"test\"]['category']\n",
    "df[\"train_test\"] = df[\"train_test\"][['oid', 'category', 'text']]\n"
   ]
  },
  {
   "cell_type": "code",
   "execution_count": 15,
   "metadata": {},
   "outputs": [
    {
     "data": {
      "text/html": [
       "<div>\n",
       "<style scoped>\n",
       "    .dataframe tbody tr th:only-of-type {\n",
       "        vertical-align: middle;\n",
       "    }\n",
       "\n",
       "    .dataframe tbody tr th {\n",
       "        vertical-align: top;\n",
       "    }\n",
       "\n",
       "    .dataframe thead th {\n",
       "        text-align: right;\n",
       "    }\n",
       "</style>\n",
       "<table border=\"1\" class=\"dataframe\">\n",
       "  <thead>\n",
       "    <tr style=\"text-align: right;\">\n",
       "      <th></th>\n",
       "      <th>oid</th>\n",
       "      <th>category</th>\n",
       "      <th>text</th>\n",
       "      <th>pred</th>\n",
       "      <th>prob</th>\n",
       "    </tr>\n",
       "  </thead>\n",
       "  <tbody>\n",
       "    <tr>\n",
       "      <th>178</th>\n",
       "      <td>645164973</td>\n",
       "      <td>tennis</td>\n",
       "      <td>мария боузкова подвести итог сезон сезон полны...</td>\n",
       "      <td>winter_sport</td>\n",
       "      <td>0.998455</td>\n",
       "    </tr>\n",
       "    <tr>\n",
       "      <th>9985</th>\n",
       "      <td>236690959</td>\n",
       "      <td>extreme</td>\n",
       "      <td>что прыжок с павловский труба     метр когда  ...</td>\n",
       "      <td>extreme</td>\n",
       "      <td>1.000000</td>\n",
       "    </tr>\n",
       "    <tr>\n",
       "      <th>5620</th>\n",
       "      <td>807842974</td>\n",
       "      <td>extreme</td>\n",
       "      <td>один довольно малоизвестный американский оруже...</td>\n",
       "      <td>martial_arts</td>\n",
       "      <td>0.999931</td>\n",
       "    </tr>\n",
       "    <tr>\n",
       "      <th>19189</th>\n",
       "      <td>972334562</td>\n",
       "      <td>hockey</td>\n",
       "      <td>время не властный над джино с день рождение ге...</td>\n",
       "      <td>hockey</td>\n",
       "      <td>1.000000</td>\n",
       "    </tr>\n",
       "    <tr>\n",
       "      <th>37724</th>\n",
       "      <td>300473651</td>\n",
       "      <td>motosport</td>\n",
       "      <td>центр технический вид спорт свердловский обл п...</td>\n",
       "      <td>motosport</td>\n",
       "      <td>1.000000</td>\n",
       "    </tr>\n",
       "  </tbody>\n",
       "</table>\n",
       "</div>"
      ],
      "text/plain": [
       "             oid   category  \\\n",
       "178    645164973     tennis   \n",
       "9985   236690959    extreme   \n",
       "5620   807842974    extreme   \n",
       "19189  972334562     hockey   \n",
       "37724  300473651  motosport   \n",
       "\n",
       "                                                    text          pred  \\\n",
       "178    мария боузкова подвести итог сезон сезон полны...  winter_sport   \n",
       "9985   что прыжок с павловский труба     метр когда  ...       extreme   \n",
       "5620   один довольно малоизвестный американский оруже...  martial_arts   \n",
       "19189  время не властный над джино с день рождение ге...        hockey   \n",
       "37724  центр технический вид спорт свердловский обл п...     motosport   \n",
       "\n",
       "           prob  \n",
       "178    0.998455  \n",
       "9985   1.000000  \n",
       "5620   0.999931  \n",
       "19189  1.000000  \n",
       "37724  1.000000  "
      ]
     },
     "execution_count": 15,
     "metadata": {},
     "output_type": "execute_result"
    }
   ],
   "source": [
    "#инвертируем словарь\n",
    "keys_target = {value: key for key, value in keys_target.items()}\n",
    "\n",
    "df[\"train_test\"][['pred', 'prob']] = [classifier.predict(t, proba=True) for t in list(df[\"train_test\"]['text'])]\n",
    "\n",
    "df[\"train_test\"]['pred'] = df[\"train_test\"]['pred'].apply(lambda x: keys_target[x])\n",
    "df[\"train_test\"]['category'] = df[\"train_test\"]['category'].apply(lambda x: keys_target[x])\n",
    "\n",
    "df[\"train_test\"].head()\n"
   ]
  },
  {
   "cell_type": "code",
   "execution_count": 16,
   "metadata": {},
   "outputs": [
    {
     "data": {
      "image/png": "[encoded data removed]",
      "text/plain": [
       "<Figure size 1600x700 with 1 Axes>"
      ]
     },
     "metadata": {},
     "output_type": "display_data"
    }
   ],
   "source": [
    "plt.rcParams['figure.figsize'] = [16, 7]\n",
    "sns.histplot(df[\"train_test\"]['prob'],\n",
    "             color=\"gray\", label=\"prob\", bins=100)\n",
    "plt.legend() \n",
    "plt.show()\n"
   ]
  },
  {
   "cell_type": "markdown",
   "metadata": {},
   "source": [
    "- видим что есть маловероятные предсказани - это внекатегорийные строки, их нужно отсечь\n",
    "- видим что основная доля ответов в диапазоне от 0.9 до 1"
   ]
  },
  {
   "cell_type": "code",
   "execution_count": 17,
   "metadata": {
    "colab": {
     "base_uri": "https://localhost:8080/",
     "height": 380
    },
    "executionInfo": {
     "elapsed": 9,
     "status": "error",
     "timestamp": 1671396643330,
     "user": {
      "displayName": "Вячеслав Лой",
      "userId": "13558431165849052389"
     },
     "user_tz": -240
    },
    "id": "xhJosdy6Bn0o",
    "outputId": "92897f5d-7e8a-4203-b3ae-9d8e278587eb"
   },
   "outputs": [
    {
     "name": "stdout",
     "output_type": "stream",
     "text": [
      "precision: 0.8684050782903969, recall: 0.8686437352294385, f1score: 0.8684434405813347\n"
     ]
    }
   ],
   "source": [
    "#df[\"filt\"] = df[\"train_test\"]\n",
    "#установим приемлемую вероятность\n",
    "df[\"filt\"] = df[\"train_test\"][df[\"train_test\"]['prob'] > 0.9]\n",
    "\n",
    "precision, recall, f1score = precision_recall_fscore_support(df[\"filt\"]['category'],\n",
    "                                                             df[\"filt\"]['pred'], average='macro')[:3]\n",
    "print(f'precision: {precision}, recall: {recall}, f1score: {f1score}')\n"
   ]
  },
  {
   "cell_type": "markdown",
   "metadata": {},
   "source": [
    "### result"
   ]
  },
  {
   "cell_type": "markdown",
   "metadata": {},
   "source": [
    "в результате внекатегориальные ответы следует оставить пустыми"
   ]
  },
  {
   "cell_type": "code",
   "execution_count": 18,
   "metadata": {},
   "outputs": [
    {
     "name": "stderr",
     "output_type": "stream",
     "text": []
    }
   ],
   "source": [
    "df[\"res\"] = pd.DataFrame(df[\"test\"]['oid'].copy())\n",
    "\n",
    "df[\"res\"][['category', 'prob']] = [classifier.predict(t, proba=True) for t in list(df[\"test\"]['text'])]\n"
   ]
  },
  {
   "cell_type": "code",
   "execution_count": 19,
   "metadata": {},
   "outputs": [
    {
     "data": {
      "text/plain": [
       "0.05316070068545316"
      ]
     },
     "execution_count": 19,
     "metadata": {},
     "output_type": "execute_result"
    }
   ],
   "source": [
    "df[\"res\"]['prob'][df[\"res\"]['prob'] < 0.9].count() / df[\"res\"]['category'].count()"
   ]
  },
  {
   "cell_type": "markdown",
   "metadata": {},
   "source": [
    "чут больше 5% предсказаний оставим пустыми\n",
    "\n",
    "сперва преобразуем категории"
   ]
  },
  {
   "cell_type": "code",
   "execution_count": 20,
   "metadata": {},
   "outputs": [],
   "source": [
    "df[\"res\"]['category'] = df[\"res\"]['category'].apply(lambda x: keys_target[x])\n",
    "df[\"res\"].loc[df[\"res\"]['prob'] < 0.9, 'category'] = ''"
   ]
  },
  {
   "cell_type": "code",
   "execution_count": 21,
   "metadata": {
    "scrolled": true
   },
   "outputs": [
    {
     "data": {
      "text/html": [
       "<div>\n",
       "<style scoped>\n",
       "    .dataframe tbody tr th:only-of-type {\n",
       "        vertical-align: middle;\n",
       "    }\n",
       "\n",
       "    .dataframe tbody tr th {\n",
       "        vertical-align: top;\n",
       "    }\n",
       "\n",
       "    .dataframe thead th {\n",
       "        text-align: right;\n",
       "    }\n",
       "</style>\n",
       "<table border=\"1\" class=\"dataframe\">\n",
       "  <thead>\n",
       "    <tr style=\"text-align: right;\">\n",
       "      <th></th>\n",
       "      <th>oid</th>\n",
       "      <th>category</th>\n",
       "      <th>prob</th>\n",
       "    </tr>\n",
       "  </thead>\n",
       "  <tbody>\n",
       "    <tr>\n",
       "      <th>0</th>\n",
       "      <td>749208109</td>\n",
       "      <td>martial_arts</td>\n",
       "      <td>0.995541</td>\n",
       "    </tr>\n",
       "    <tr>\n",
       "      <th>1</th>\n",
       "      <td>452466036</td>\n",
       "      <td>winter_sport</td>\n",
       "      <td>0.999996</td>\n",
       "    </tr>\n",
       "    <tr>\n",
       "      <th>2</th>\n",
       "      <td>161038103</td>\n",
       "      <td>martial_arts</td>\n",
       "      <td>0.993356</td>\n",
       "    </tr>\n",
       "    <tr>\n",
       "      <th>3</th>\n",
       "      <td>663621910</td>\n",
       "      <td>esport</td>\n",
       "      <td>0.999986</td>\n",
       "    </tr>\n",
       "    <tr>\n",
       "      <th>4</th>\n",
       "      <td>566255305</td>\n",
       "      <td>tennis</td>\n",
       "      <td>1.000000</td>\n",
       "    </tr>\n",
       "  </tbody>\n",
       "</table>\n",
       "</div>"
      ],
      "text/plain": [
       "         oid      category      prob\n",
       "0  749208109  martial_arts  0.995541\n",
       "1  452466036  winter_sport  0.999996\n",
       "2  161038103  martial_arts  0.993356\n",
       "3  663621910        esport  0.999986\n",
       "4  566255305        tennis  1.000000"
      ]
     },
     "execution_count": 21,
     "metadata": {},
     "output_type": "execute_result"
    }
   ],
   "source": [
    "df[\"res\"].head()"
   ]
  },
  {
   "cell_type": "markdown",
   "metadata": {},
   "source": [
    "осталось удалить вероятности"
   ]
  },
  {
   "cell_type": "code",
   "execution_count": 22,
   "metadata": {
    "executionInfo": {
     "elapsed": 442,
     "status": "ok",
     "timestamp": 1671397156756,
     "user": {
      "displayName": "Вячеслав Лой",
      "userId": "13558431165849052389"
     },
     "user_tz": -240
    },
    "id": "3A6llQUjB-il"
   },
   "outputs": [
    {
     "data": {
      "text/html": [
       "<div>\n",
       "<style scoped>\n",
       "    .dataframe tbody tr th:only-of-type {\n",
       "        vertical-align: middle;\n",
       "    }\n",
       "\n",
       "    .dataframe tbody tr th {\n",
       "        vertical-align: top;\n",
       "    }\n",
       "\n",
       "    .dataframe thead th {\n",
       "        text-align: right;\n",
       "    }\n",
       "</style>\n",
       "<table border=\"1\" class=\"dataframe\">\n",
       "  <thead>\n",
       "    <tr style=\"text-align: right;\">\n",
       "      <th></th>\n",
       "      <th>oid</th>\n",
       "      <th>category</th>\n",
       "    </tr>\n",
       "  </thead>\n",
       "  <tbody>\n",
       "    <tr>\n",
       "      <th>0</th>\n",
       "      <td>749208109</td>\n",
       "      <td>martial_arts</td>\n",
       "    </tr>\n",
       "    <tr>\n",
       "      <th>1</th>\n",
       "      <td>452466036</td>\n",
       "      <td>winter_sport</td>\n",
       "    </tr>\n",
       "    <tr>\n",
       "      <th>2</th>\n",
       "      <td>161038103</td>\n",
       "      <td>martial_arts</td>\n",
       "    </tr>\n",
       "    <tr>\n",
       "      <th>3</th>\n",
       "      <td>663621910</td>\n",
       "      <td>esport</td>\n",
       "    </tr>\n",
       "    <tr>\n",
       "      <th>4</th>\n",
       "      <td>566255305</td>\n",
       "      <td>tennis</td>\n",
       "    </tr>\n",
       "  </tbody>\n",
       "</table>\n",
       "</div>"
      ],
      "text/plain": [
       "         oid      category\n",
       "0  749208109  martial_arts\n",
       "1  452466036  winter_sport\n",
       "2  161038103  martial_arts\n",
       "3  663621910        esport\n",
       "4  566255305        tennis"
      ]
     },
     "execution_count": 22,
     "metadata": {},
     "output_type": "execute_result"
    }
   ],
   "source": [
    "df[\"res\"] = df[\"res\"].drop('prob', axis=1)\n",
    "\n",
    "df[\"res\"].to_csv('./subsets/VK_Cup_2022_quali/res.csv', index=False)\n",
    "\n",
    "df[\"res\"].head()\n"
   ]
  },
  {
   "cell_type": "markdown",
   "metadata": {},
   "source": [
    "со значением отсечения по веростности можно было поэкспериментировать, добиваясь лучшего результата при отправке на проверку. <br /> так же можно взять более сложную и точную модель, в нашем примере использована самая лёгкая и быстрая rubert-tiny"
   ]
  }
 ],
 "metadata": {
  "accelerator": "GPU",
  "colab": {
   "provenance": []
  },
  "gpuClass": "standard",
  "kernelspec": {
   "display_name": "Python 3 (ipykernel)",
   "language": "python",
   "name": "python3"
  },
  "language_info": {
   "codemirror_mode": {
    "name": "ipython",
    "version": 3
   },
   "file_extension": ".py",
   "mimetype": "text/x-python",
   "name": "python",
   "nbconvert_exporter": "python",
   "pygments_lexer": "ipython3",
   "version": "3.9.15"
  }
 },
 "nbformat": 4,
 "nbformat_minor": 1
}
